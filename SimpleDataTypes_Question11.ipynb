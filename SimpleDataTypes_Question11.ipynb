{
 "cells": [
  {
   "cell_type": "code",
   "execution_count": 6,
   "id": "514cef61-d803-4b88-a8dc-a69b00d0c7dd",
   "metadata": {},
   "outputs": [
    {
     "data": {
      "text/plain": [
       "2"
      ]
     },
     "execution_count": 6,
     "metadata": {},
     "output_type": "execute_result"
    }
   ],
   "source": [
    "#Question1(Booleans)\n",
    "#boolean True + boolean True - boolean False = ? \n",
    "True + True - False"
   ]
  },
  {
   "cell_type": "code",
   "execution_count": 8,
   "id": "2f1bc0b4-bc05-4865-a765-4462426a7d17",
   "metadata": {},
   "outputs": [
    {
     "name": "stdout",
     "output_type": "stream",
     "text": [
      "1\n"
     ]
    }
   ],
   "source": [
    "#Question2(Booleans2)\n",
    "logical_tracker = True\n",
    "\n",
    "logical_tracker = logical_tracker & logical_tracker\n",
    "\n",
    "logical_tracker = logical_tracker | (logical_tracker - logical_tracker)\n",
    "\n",
    "print(logical_tracker)"
   ]
  },
  {
   "cell_type": "code",
   "execution_count": 21,
   "id": "0faa903e-b34d-42f4-a448-72a152599563",
   "metadata": {},
   "outputs": [
    {
     "name": "stdout",
     "output_type": "stream",
     "text": [
      " \n"
     ]
    }
   ],
   "source": [
    "#Question5(Strings)\n",
    "string = \"E. Coli\"\n",
    "print(string[2])"
   ]
  },
  {
   "cell_type": "code",
   "execution_count": 10,
   "id": "bd898d08-32b4-4f16-ab6c-ec4c4579ed64",
   "metadata": {},
   "outputs": [
    {
     "ename": "TypeError",
     "evalue": "'str' object does not support item assignment",
     "output_type": "error",
     "traceback": [
      "\u001b[31m---------------------------------------------------------------------------\u001b[39m",
      "\u001b[31mTypeError\u001b[39m                                 Traceback (most recent call last)",
      "\u001b[36mCell\u001b[39m\u001b[36m \u001b[39m\u001b[32mIn[10]\u001b[39m\u001b[32m, line 3\u001b[39m\n\u001b[32m      1\u001b[39m \u001b[38;5;66;03m#Question6(Strings)\u001b[39;00m\n\u001b[32m      2\u001b[39m string = \u001b[33m\"\u001b[39m\u001b[33mI Bove python\u001b[39m\u001b[33m\"\u001b[39m\n\u001b[32m----> \u001b[39m\u001b[32m3\u001b[39m \u001b[43mstring\u001b[49m\u001b[43m[\u001b[49m\u001b[32;43m2\u001b[39;49m\u001b[43m]\u001b[49m = \u001b[33m\"\u001b[39m\u001b[33mL\u001b[39m\u001b[33m\"\u001b[39m\n",
      "\u001b[31mTypeError\u001b[39m: 'str' object does not support item assignment"
     ]
    }
   ],
   "source": [
    "#Question6(Strings2)\n",
    "string = \"I Bove python\"\n",
    "string[2] = \"L\""
   ]
  },
  {
   "cell_type": "code",
   "execution_count": 20,
   "id": "2b9f612c-eacb-4b32-b903-ab96c89059d4",
   "metadata": {},
   "outputs": [
    {
     "name": "stdout",
     "output_type": "stream",
     "text": [
      "I Love python\n"
     ]
    }
   ],
   "source": [
    "#Question6(Strings2)\n",
    "#Strings are immutable, you can't directly alter one letter in a string\n",
    "string = \"I Bove python\"\n",
    "B = \"L\"\n",
    "string = \"I \" + B + \"ove python\"\n",
    "print(string)"
   ]
  },
  {
   "cell_type": "code",
   "execution_count": 22,
   "id": "da960c6c-9b1a-45d7-9735-4176b045d785",
   "metadata": {},
   "outputs": [
    {
     "name": "stdout",
     "output_type": "stream",
     "text": [
      "3\n",
      "GoodMorning!\n"
     ]
    }
   ],
   "source": [
    "#Question9(Operators2),explain the \"+\"\n",
    "#For integers, \"+\" means a method of calculation, addition, which would add the number before and after \"+\" together. For example\n",
    "\n",
    "a = 1\n",
    "b = 2\n",
    "\n",
    "print(a + b)\n",
    "\n",
    "#For strings, \"+\" means concatenation, which would join the string before and after \"+\" together and become a new string. For example\n",
    "\n",
    "x = \"Good\"\n",
    "y = \"Morning\"\n",
    "z = \"!\"\n",
    "\n",
    "print(x + y + z)"
   ]
  },
  {
   "cell_type": "code",
   "execution_count": 24,
   "id": "11ebd2f1-67a2-4a65-93e3-eeb215b76e79",
   "metadata": {},
   "outputs": [
    {
     "name": "stdout",
     "output_type": "stream",
     "text": [
      "73\n"
     ]
    }
   ],
   "source": [
    "#Question10(string3) add string\"7\" and \"3\" together\n",
    "#Set \"7\" and \"3\" as strings\n",
    "\n",
    "a = \"7\"\n",
    "b = \"3\"\n",
    "\n",
    "#Add \"7\" and \"3\" togethe\n",
    "print(a + b)"
   ]
  },
  {
   "cell_type": "code",
   "execution_count": null,
   "id": "60cb6b45-3dbb-441b-8674-941dc95877b3",
   "metadata": {},
   "outputs": [],
   "source": []
  }
 ],
 "metadata": {
  "kernelspec": {
   "display_name": "Python 3 (ipykernel)",
   "language": "python",
   "name": "python3"
  },
  "language_info": {
   "codemirror_mode": {
    "name": "ipython",
    "version": 3
   },
   "file_extension": ".py",
   "mimetype": "text/x-python",
   "name": "python",
   "nbconvert_exporter": "python",
   "pygments_lexer": "ipython3",
   "version": "3.12.7"
  }
 },
 "nbformat": 4,
 "nbformat_minor": 5
}
