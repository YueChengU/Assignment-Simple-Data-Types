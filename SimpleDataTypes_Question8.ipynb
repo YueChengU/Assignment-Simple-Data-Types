{
 "cells": [
  {
   "cell_type": "code",
   "execution_count": 8,
   "id": "21f200db-e496-4832-9a3c-5a429f64488b",
   "metadata": {},
   "outputs": [
    {
     "name": "stdout",
     "output_type": "stream",
     "text": [
      "<class 'float'>\n",
      "24.034609838166958\n",
      "24.0\n",
      "Susan/'s Body Mass Index is  24.0 kg/m^2\n"
     ]
    }
   ],
   "source": [
    "#Named the variables and set the values\n",
    "weight_kg = 60\n",
    "height_m = 1.58\n",
    "\n",
    "#Set \"BMI\" as the value of the calculation\n",
    "BMI = weight_kg / (height_m ** 2)\n",
    "\n",
    "#Check if the data type of the result is float\n",
    "print(type(BMI))\n",
    "\n",
    "#Print out the result\n",
    "print(BMI)\n",
    "\n",
    "#Round it up to one decimal place\n",
    "BMI = round(BMI, 1)\n",
    "print(BMI)\n",
    "\n",
    "#Print our an answer\n",
    "print(\"Susan/'s Body Mass Index is \", BMI, \"kg/m^2\")"
   ]
  },
  {
   "cell_type": "code",
   "execution_count": null,
   "id": "e1c178ed-4d4b-4ee4-b0cb-de94ba97fca2",
   "metadata": {},
   "outputs": [],
   "source": []
  }
 ],
 "metadata": {
  "kernelspec": {
   "display_name": "Python 3 (ipykernel)",
   "language": "python",
   "name": "python3"
  },
  "language_info": {
   "codemirror_mode": {
    "name": "ipython",
    "version": 3
   },
   "file_extension": ".py",
   "mimetype": "text/x-python",
   "name": "python",
   "nbconvert_exporter": "python",
   "pygments_lexer": "ipython3",
   "version": "3.12.7"
  }
 },
 "nbformat": 4,
 "nbformat_minor": 5
}
